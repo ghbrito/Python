{
  "nbformat": 4,
  "nbformat_minor": 0,
  "metadata": {
    "colab": {
      "provenance": [],
      "collapsed_sections": []
    },
    "kernelspec": {
      "name": "python3",
      "display_name": "Python 3"
    },
    "language_info": {
      "name": "python"
    }
  },
  "cells": [
    {
      "cell_type": "code",
      "execution_count": null,
      "metadata": {
        "id": "HCP1YV7_Kgc6"
      },
      "outputs": [],
      "source": [
        "print(\"---Lista de Exercícios 07---\\n\")\n",
        "\n",
        "#Ex1\n",
        "soma = 0\n",
        "\n",
        "at1N = [108.304, 100.827, 67.992]\n",
        "at1CA = [108.477, 100.389, 69.362]\n",
        "at1C = [109.907, 100.555, 69.817]\n",
        "at1O = [110.821, 100.799, 69.027]\n",
        "atomo1 = [at1N,at1CA,at1C,at1O]\n",
        "\n",
        "at2N = [107.670, 101.359, 70.074]\n",
        "at2CA = [108.477, 100.389, 69.362]\n",
        "at2C = [109.513, 101.011, 68.450]\n",
        "at2O = [110.667, 100.572, 68.425]\n",
        "atomo2 = [at2N,at2CA,at2C,at2O]\n",
        "\n",
        "\n",
        "for linha in range(len(atomo1)):\n",
        "    for coluna in range(len(atomo1[linha])):\n",
        "        delta2 = (atomo1[linha][coluna] - atomo2[linha][coluna])**2\n",
        "        soma = soma + delta2\n",
        "\n",
        "n = len(atomo1)\n",
        "rmsd = sqrt(soma/n)\n",
        "print(\"\\nEx1)\\nRMSD entre os átomos 1 e 2: \",rmsd)\n",
        "\n",
        "#Ex2\n",
        "seqA = \"ATGATCTCGTAATTAACCGGAATTTTGGGCC\"\n",
        "seqB = \"GGCCTTAAGTTTAACCCGGAATTTAAAGGCCCCAAA\"\n",
        "\n",
        "gcA = seqA.count(\"G\") + seqA.count((\"C\"))\n",
        "gcB = seqB.count(\"G\") + seqB.count((\"C\"))\n",
        "\n",
        "print(\"\\nEx2)\\nPercentual de conteúdo GC na sequência A: \",gcA/len(seqA))\n",
        "print(\"Percentual de conteúdo GC na sequência B: \",gcB/len(seqB))\n",
        "\n",
        "print(\"\\n---FIM Lista de Exercícios 07---\")"
      ]
    }
  ]
}