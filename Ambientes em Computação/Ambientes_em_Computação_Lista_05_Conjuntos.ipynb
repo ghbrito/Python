{
  "nbformat": 4,
  "nbformat_minor": 0,
  "metadata": {
    "colab": {
      "provenance": [],
      "collapsed_sections": []
    },
    "kernelspec": {
      "name": "python3",
      "display_name": "Python 3"
    },
    "language_info": {
      "name": "python"
    }
  },
  "cells": [
    {
      "cell_type": "code",
      "execution_count": 1,
      "metadata": {
        "colab": {
          "base_uri": "https://localhost:8080/"
        },
        "id": "0R0zLL79GVU4",
        "outputId": "60f477f2-8d68-4588-dc7a-1c2d73ae8364"
      },
      "outputs": [
        {
          "output_type": "stream",
          "name": "stdout",
          "text": [
            "---Lista de Exercícios 05---\n",
            "\n",
            "---Exercício 1---\n",
            "\n",
            "a)\n",
            "Diferença entre c1 e c2 {'1.6', '1.8', '6.5', '5.3', '2.9', '3.5', '5.8', '5.9', '4.6', '5.2', '9.6', '4.4', '1.1', '1.7'}\n",
            "Diferença entre c1 e c3 {'1.6', '1.8', '6.5', '5.3', '2.9', '3.5', '1.9', '5.8', '5.9', '4.6', '5.2', '4.4', '9.6', '1.7', '4.7', '6.2', '5.7'}\n",
            "Diferença entre c2 e c3 {'3.6', '7', '5', '5.4', '3.9', '1.9', '1.3', '2.1', '5.6', '1.0', '3.8', '3.4', '4.7', '7.1', '6.2', '5.7'}\n",
            "\n",
            "b)\n",
            "Interseção entre c1 e c2 {'1.9', '9.5', '4.7', '6.2', '5.7'}\n",
            "Interseção entre c1 e c3 {'1.1', '9.5'}\n",
            "Interseção entre c2 e c3 {'3.3', '9.5', '5.1'}\n",
            "\n",
            "c)\n",
            "Conjunto c1 após a inserção dos elementos de c2 e c3:  {'3.6', '1.6', '5.1', '2.2', '5.4', '5.3', '3.9', '3.5', '5.8', '5.9', '4.6', '1.3', '1.0', '6.9', '3.8', '9.3', '7.1', '6.2', '9.1', '3.2', '2', '8.5', '5.2', '2.1', '1.7', '4.1', '1.8', '6.5', '2.9', '1.9', '8.8', '1.1', '6.1', '7', '4.9', '5', '3.7', '0.8', '0.5', '9.5', '4.4', '5.6', '3.4', '9.6', '3.3', '4.7', '3', '5.7'}\n",
            "\n",
            "d)\n",
            "Tamanho do conjunto c1 após a inserção dos elementos de c2 e c3:  48\n",
            "\n",
            "---FIM Exercício 1---\n",
            "\n",
            "---Exercício 2---\n",
            "\n",
            "a)\n",
            "Interseção entre A e B:  {'6', '18', '24'}\n",
            "Diferença entre A e B:  {'28', '27', '9', '21', '15', '12', '3'}\n",
            "\n",
            "b)\n",
            "Conjunto A é disjunto ao D ? Resposta :  True\n",
            "Conjunto B é disjunto ao D ? Resposta :  False\n",
            "\n",
            "c)\n",
            "Conjunto C é subconjunto de A? Resposta:  False\n",
            "Conjunto C é subconjunto de B? Resposta:  True\n",
            "\n",
            "d)\n",
            "Conjunto D acrescido com os elementos 18, 23, 25, 63:  {'16', '63', '18', '5', '1', '25', '11', '23', '26', '17', '22', '30'}\n",
            "\n",
            "---FIM Exercício 2----\n",
            "\n",
            "---FIM Lista de Exercícios 05---\n"
          ]
        }
      ],
      "source": [
        "print(\"---Lista de Exercícios 05---\\n\\n---Exercício 1---\")\n",
        "\n",
        "c1 = {'1.9', '1.8', '5.7', '1.6', '5.8', '1.7', '9.6', '5.9', '9.5', '6.5', '6.2', '1.1', '4.4', '3.5', '2.9', '4.7', '4.6', '5.2', '5.3'}\n",
        "c2 = {'4.7', '3.6', '6.2', '7.1', '7', '5.6', '5.7', '3.4', '3.3', '2.1', '3.8', '3.9', '5', '5.1', '1.9', '9.5', '1.0', '1.3', '5.4'}\n",
        "c3 = {'2.2', '3.3', '5.1', '3', '3.7', '9.1', '8.8', '8.5', '2', '4.1', '6.1', '4.9', '1.1', '0.5', '0.8', '3.2', '6.9', '9.3', '9.5'}\n",
        "\n",
        "\n",
        "print(\"\\na)\\nDiferença entre c1 e c2\",c1.difference(c2)) #Ex1 - a\n",
        "print(\"Diferença entre c1 e c3\",c1.difference(c3))\n",
        "print(\"Diferença entre c2 e c3\",c2.difference(c3))\n",
        "\n",
        "print(\"\\nb)\\nInterseção entre c1 e c2\",c1.intersection(c2)) #Ex1 - b\n",
        "print(\"Interseção entre c1 e c3\",c1.intersection(c3))\n",
        "print(\"Interseção entre c2 e c3\",c2.intersection(c3))\n",
        "\n",
        "c1.update(c2) #Ex1 - c\n",
        "c1.update(c3)\n",
        "print(\"\\nc)\\nConjunto c1 após a inserção dos elementos de c2 e c3: \",c1)\n",
        "\n",
        "print(\"\\nd)\\nTamanho do conjunto c1 após a inserção dos elementos de c2 e c3: \",len(c1)) #Ex1 - d\n",
        "\n",
        "print('\\n---FIM Exercício 1---\\n\\n---Exercício 2---')\n",
        "\n",
        "A = {'3', '6', '9', '12', '15', '18', '21', '24', '28', '27'} #Ex2\n",
        "B = {'2', '6', '8', '10', '14', '16', '18', '20', '22', '24'}\n",
        "C = {'2', '6', '10', '18', '20'}\n",
        "D = {'1', '30', '5', '11', '17', '16', '22', '26'}\n",
        "\n",
        "print(\"\\na)\\nInterseção entre A e B: \",A.intersection(B)) #Ex2 - a\n",
        "print(\"Diferença entre A e B: \",A.difference(B))\n",
        "\n",
        "print(\"\\nb)\\nConjunto A é disjunto ao D ? Resposta : \",A.isdisjoint(D)) #Ex2 - b\n",
        "print(\"Conjunto B é disjunto ao D ? Resposta : \",B.isdisjoint(D))\n",
        "\n",
        "print(\"\\nc)\\nConjunto C é subconjunto de A? Resposta: \",C.issubset(A)) #Ex2 - c\n",
        "print(\"Conjunto C é subconjunto de B? Resposta: \",C.issubset(B))\n",
        "\n",
        "D.update(['18', '23', '25', '63']) #Ex2 - d\n",
        "print(\"\\nd)\\nConjunto D acrescido com os elementos 18, 23, 25, 63: \",D)\n",
        "\n",
        "print(\"\\n---FIM Exercício 2----\\n\\n---FIM Lista de Exercícios 05---\")"
      ]
    }
  ]
}