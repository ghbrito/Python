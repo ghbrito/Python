{
  "nbformat": 4,
  "nbformat_minor": 0,
  "metadata": {
    "colab": {
      "provenance": [],
      "collapsed_sections": []
    },
    "kernelspec": {
      "name": "python3",
      "display_name": "Python 3"
    },
    "language_info": {
      "name": "python"
    }
  },
  "cells": [
    {
      "cell_type": "code",
      "execution_count": 2,
      "metadata": {
        "colab": {
          "base_uri": "https://localhost:8080/"
        },
        "id": "Voo_nZaUj-Ei",
        "outputId": "c7a502f6-f9a9-4fce-e4a9-6e99dd48b87a"
      },
      "outputs": [
        {
          "output_type": "stream",
          "name": "stdout",
          "text": [
            "---Lista de Exercícios 08---\n",
            "\n",
            "\n",
            "Ex1) Sequências com 80 ou mais aminoácidos: \n",
            "    Sequência: LRSSSQNSSDKPVAHVVANHQVEEQLEWLSQRANALLANGMDLKDNQLVVPADGLYLVYSQVLFKGQGCPDYVLLTHTVSLRSSSDK\n",
            "    Sequência: CPQGKYIHPQNNSICCTKCHKGTYLYNDCPGPGQDTDCRECESGSFTASENHLRHCLSCSKCRKEMGQVEISSCTVDRDTVCGCR\n",
            "\n",
            "Ex2) Sequências cujo tamanho é maior que a média de tamanho das sequências - Média de tamanho das sequências: 83.66666666666667\n",
            "    Sequência: LRSSSQNSSDKPVAHVVANHQVEEQLEWLSQRANALLANGMDLKDNQLVVPADGLYLVYSQVLFKGQGCPDYVLLTHTVSLRSSSDK\n",
            "    Sequência: CPQGKYIHPQNNSICCTKCHKGTYLYNDCPGPGQDTDCRECESGSFTASENHLRHCLSCSKCRKEMGQVEISSCTVDRDTVCGCR\n",
            "\n",
            "Ex3) Sequências que possuam pelo menos uma histidina (H) e nenhuma prolina (P):\n",
            "\n",
            "Ex4) Maior sequência: \n",
            "    Sequência: LRSSSQNSSDKPVAHVVANHQVEEQLEWLSQRANALLANGMDLKDNQLVVPADGLYLVYSQVLFKGQGCPDYVLLTHTVSLRSSSDK\n",
            "\n",
            "Ex5) sequências em ordem crescente de tamanho:\n",
            "KPAAHLIGDPSKQNSLLWRANTDRAFLQDGFSLSNNSLLVPTSGIYFVYSQVVFSGKAYSPKATSSPLYLAHEVQLFSS\n",
            "CPQGKYIHPQNNSICCTKCHKGTYLYNDCPGPGQDTDCRECESGSFTASENHLRHCLSCSKCRKEMGQVEISSCTVDRDTVCGCR\n",
            "LRSSSQNSSDKPVAHVVANHQVEEQLEWLSQRANALLANGMDLKDNQLVVPADGLYLVYSQVLFKGQGCPDYVLLTHTVSLRSSSDK\n",
            "\n",
            "---FIM Lista de Exercícios 08---\n"
          ]
        }
      ],
      "source": [
        "seqA = \"LRSSSQNSSDKPVAHVVANHQVEEQLEWLSQRANALLANGMDLKDNQLVVPADGLYLVYSQVLFKGQGCPDYVLLTHTVSLRSSSDK\"\n",
        "seqB = \"KPAAHLIGDPSKQNSLLWRANTDRAFLQDGFSLSNNSLLVPTSGIYFVYSQVVFSGKAYSPKATSSPLYLAHEVQLFSS\"\n",
        "seqC = \"CPQGKYIHPQNNSICCTKCHKGTYLYNDCPGPGQDTDCRECESGSFTASENHLRHCLSCSKCRKEMGQVEISSCTVDRDTVCGCR\"\n",
        "listaSequencias = [seqA,seqB,seqC]\n",
        "\n",
        "print(\"---Lista de Exercícios 08---\\n\")\n",
        "\n",
        "#Ex 1 a 5\n",
        "Ex1 = \"\\nEx1) Sequências com 80 ou mais aminoácidos: \"\n",
        "Ex2 = \"\\nEx2) Sequências cujo tamanho é maior que a média de tamanho das sequências - \"\n",
        "Ex3 = \"\\nEx3) Sequências que possuam pelo menos uma histidina (H) e nenhuma prolina (P):\"\n",
        "Ex4 = \"\\nEx4) Maior sequência: \"\n",
        "Ex5 = \"\\nEx5) sequências em ordem crescente de tamanho:\"\n",
        "tamanhoTotal = 0\n",
        "maiorSeq = \"\"\n",
        "menorSeq = listaSequencias[0]\n",
        "\n",
        "for i in range(len(listaSequencias)):\n",
        "    seq = listaSequencias[i]\n",
        "    #Ex1\n",
        "    if len(seq) >= 80:\n",
        "        Ex1 = Ex1 + \"\\n    Sequência: \" + seq\n",
        "\n",
        "    #Ex2\n",
        "    tamanhoTotal = tamanhoTotal + len(seq)\n",
        "\n",
        "    #Ex3\n",
        "    if seq.count(\"H\") > 0 and seq.count(\"P\") < 1:\n",
        "        Ex3 = Ex3 + \"\\n    Sequência: \" + seq\n",
        "\n",
        "    #Ex4\n",
        "    if len(seq) > len(maiorSeq):\n",
        "        maiorSeq = seq\n",
        "\n",
        "\n",
        "\n",
        "\n",
        "#Ex2\n",
        "mediaTamanhos = tamanhoTotal / len(listaSequencias)\n",
        "Ex2 = Ex2 + \"Média de tamanho das sequências: \" + str(mediaTamanhos)\n",
        "for i in range(len(listaSequencias)):\n",
        "    seq = listaSequencias[i]\n",
        "    if len(seq) > mediaTamanhos:\n",
        "        Ex2 = Ex2 + \"\\n    Sequência: \" +seq\n",
        "\n",
        "#Ex4\n",
        "Ex4 = Ex4 + \"\\n    Sequência: \" + maiorSeq\n",
        "\n",
        "#Ex5\n",
        "listaSequencias.remove(maiorSeq)\n",
        "sequenciasOrdenadasPorTamanho = maiorSeq\n",
        "maiorSeq = \"\"\n",
        "while len(listaSequencias) > 1:\n",
        "    for i in range(len(listaSequencias)):\n",
        "        seq = listaSequencias[i]\n",
        "        if len(seq) > len(maiorSeq):\n",
        "            maiorSeq = seq\n",
        "    sequenciasOrdenadasPorTamanho = maiorSeq + \"\\n\" + sequenciasOrdenadasPorTamanho\n",
        "    listaSequencias.remove(maiorSeq)\n",
        "sequenciasOrdenadasPorTamanho = \"\\n\" + listaSequencias[0] + \"\\n\" + sequenciasOrdenadasPorTamanho\n",
        "Ex5 = Ex5 + sequenciasOrdenadasPorTamanho\n",
        "\n",
        "print(Ex1)\n",
        "print(Ex2)\n",
        "print(Ex3)\n",
        "print(Ex4)\n",
        "print(Ex5)\n",
        "\n",
        "\n",
        "\n",
        "print(\"\\n---FIM Lista de Exercícios 08---\")"
      ]
    }
  ]
}