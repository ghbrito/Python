{
  "nbformat": 4,
  "nbformat_minor": 0,
  "metadata": {
    "colab": {
      "provenance": [],
      "collapsed_sections": []
    },
    "kernelspec": {
      "name": "python3",
      "display_name": "Python 3"
    },
    "language_info": {
      "name": "python"
    }
  },
  "cells": [
    {
      "cell_type": "code",
      "execution_count": 4,
      "metadata": {
        "colab": {
          "base_uri": "https://localhost:8080/"
        },
        "id": "w834ZVs90ZAj",
        "outputId": "2b72aa74-a167-452c-e91f-ac6f27b92ca2"
      },
      "outputs": [
        {
          "output_type": "stream",
          "name": "stdout",
          "text": [
            "----Lista 2 - Exercícios práticos - Variáveis - Strings---\n",
            "\n",
            "----Exercício 1----\n",
            "Sequencia:  VRSSSRTPSDKPVAHVVANPQAEGQLQWLNRRANALLANGVELRDNQLVVPSEGLYLIYSQVLFKGQGCPSTHVLLTHTISRIAVSYQTKVNLLSAIKSPCQRETPEGAEAKPWYEPIYLGGVFQLEKGDRLSAEINRPDYLLFAESGQVYFGIIAL\n",
            "Tamanho da sequencia:  157\n",
            "Número de ocorrências de 'LL' :  4\n",
            "Posição de 'GG' :  120\n",
            "Posição de 'RR' :  30\n",
            "Primeiros 100 aminoácidos :  VRSSSRTPSDKPVAHVVANPQAEGQLQWLNRRANALLANGVELRDNQLVVPSEGLYLIYSQVLFKGQGCPSTHVLLTHTISRIAVSYQTKVNLLSAIKSP\n",
            "Sequência com o trecho 'SSSR' substituído por 'AAAA':  VRAAAATPSDKPVAHVVANPQAEGQLQWLNRRANALLANGVELRDNQLVVPSEGLYLIYSQVLFKGQGCPSTHVLLTHTISRIAVSYQTKVNLLSAIKSPCQRETPEGAEAKPWYEPIYLGGVFQLEKGDRLSAEINRPDYLLFAESGQVYFGIIAL\n",
            "Sequência quebrada na posição onde a substituição foi realizada:  ['VR', 'TPSDKPVAHVVANPQAEGQLQWLNRRANALLANGVELRDNQLVVPSEGLYLIYSQVLFKGQGCPSTHVLLTHTISRIAVSYQTKVNLLSAIKSPCQRETPEGAEAKPWYEPIYLGGVFQLEKGDRLSAEINRPDYLLFAESGQVYFGIIAL']\n",
            "----FIM Exercício 1----\n",
            "\n",
            "----Exercício 2----\n",
            "Texto:  As proteínas são cadeias polipeptídicas formadas pela ligação peptídica entre resíduos de aminoácidos. Existem 20 tipos de aminoácidos comumente encontrados nos seres vivos. A esses aminoácidos, foram atribuídas abreviações de 3 letras e símbolos de 1 letra. As abreviações de 3 letras são bastante evidentes consistindo nas três primeiras letras do se nome.\n",
            "\n",
            "Texto com letras maiúsculas:  AS PROTEÍNAS SÃO CADEIAS POLIPEPTÍDICAS FORMADAS PELA LIGAÇÃO PEPTÍDICA ENTRE RESÍDUOS DE AMINOÁCIDOS. EXISTEM 20 TIPOS DE AMINOÁCIDOS COMUMENTE ENCONTRADOS NOS SERES VIVOS. A ESSES AMINOÁCIDOS, FORAM ATRIBUÍDAS ABREVIAÇÕES DE 3 LETRAS E SÍMBOLOS DE 1 LETRA. AS ABREVIAÇÕES DE 3 LETRAS SÃO BASTANTE EVIDENTES CONSISTINDO NAS TRÊS PRIMEIRAS LETRAS DO SE NOME.\n",
            "\n",
            "Texto com letras minúsculas:  as proteínas são cadeias polipeptídicas formadas pela ligação peptídica entre resíduos de aminoácidos. existem 20 tipos de aminoácidos comumente encontrados nos seres vivos. a esses aminoácidos, foram atribuídas abreviações de 3 letras e símbolos de 1 letra. as abreviações de 3 letras são bastante evidentes consistindo nas três primeiras letras do se nome.\n",
            "\n",
            "Palavras com primeira letra em Maiúsculo:  As Proteínas São Cadeias Polipeptídicas Formadas Pela Ligação Peptídica Entre Resíduos De Aminoácidos. Existem 20 Tipos De Aminoácidos Comumente Encontrados Nos Seres Vivos. A Esses Aminoácidos, Foram Atribuídas Abreviações De 3 Letras E Símbolos De 1 Letra. As Abreviações De 3 Letras São Bastante Evidentes Consistindo Nas Três Primeiras Letras Do Se Nome.\n",
            "\n",
            "Texto com maiúsculas/minúsculas invertidas:  aS pROTEÍNAS sÃO cADEIAS pOLIPEPTÍDICAS fORMADAS pELA lIGAÇÃO pEPTÍDICA eNTRE rESÍDUOS dE aMINOÁCIDOS. eXISTEM 20 tIPOS dE aMINOÁCIDOS cOMUMENTE eNCONTRADOS nOS sERES vIVOS. a eSSES aMINOÁCIDOS, fORAM aTRIBUÍDAS aBREVIAÇÕES dE 3 lETRAS e sÍMBOLOS dE 1 lETRA. aS aBREVIAÇÕES dE 3 lETRAS sÃO bASTANTE eVIDENTES cONSISTINDO nAS tRÊS pRIMEIRAS lETRAS dO sE nOME.\n",
            "----FIM Exercício 2----\n",
            "\n",
            "----Exercício 3----\n",
            "Sequência:  MALWMRLLPLLALLALWGPDPAAA\n",
            "Tamanho da sequência:  24\n",
            "Sequência quebrada no trecho '“LLALLALWG':  ['MALWMRLLP', 'PDPAAA']\n",
            "Nova sequência com a concatenação do resultado anterior:  MALWMRLLPPDPAAA\n",
            "Sequencia com o trecho 'DPAAA' substituído por 'LLALL' :  MALWMRLLPPLLALL\n",
            "----FIM Exercício 3----\n",
            "\n",
            "----Exercício 4----\n",
            "Sequência de DNA = GATGGAACTTGACGTAAACCTATATT\n",
            "Sequência de RNA correspondente: GAUGGAACUUGACGUAAACCUAUAUU\n",
            "----FIM Exercício 4----\n"
          ]
        }
      ],
      "source": [
        "print(\"----Lista 2 - Exercícios práticos - Variáveis - Strings---\\n\\n----Exercício 1----\")#Início da resolução do exercício 1\n",
        "sequencia = \"VRSSSRTPSDKPVAHVVANPQAEGQLQWLNRRANALLANGVELRDNQLVVPSEGLYLIYSQVLFKGQGCPSTHVLLTHTISRIAVSYQTKVNLLSAIKSPCQRETPEGAEAKPWYEPIYLGGVFQLEKGDRLSAEINRPDYLLFAESGQVYFGIIAL\"\n",
        "print(\"Sequencia: \",sequencia)\n",
        "print(\"Tamanho da sequencia: \",len(sequencia))# Ex1 - a\n",
        "print(\"Número de ocorrências de 'LL' : \",sequencia.count(\"LL\"))# Ex1 - b\n",
        "print(\"Posição de 'GG' : \",sequencia.index(\"GG\"))# Ex1 - c\n",
        "print(\"Posição de 'RR' : \",sequencia.index(\"RR\"))\n",
        "print(\"Primeiros 100 aminoácidos : \",sequencia[0:100])# Ex1 - d\n",
        "sequencia = sequencia.replace(\"SSSR\",\"AAAA\")# Ex1 - e\n",
        "print(\"Sequência com o trecho 'SSSR' substituído por 'AAAA': \",sequencia)\n",
        "print(\"Sequência quebrada na posição onde a substituição foi realizada: \",sequencia.split(\"AAAA\"))# Ex1 - f\n",
        "print(\"----FIM Exercício 1----\")#Fim exercício 1\n",
        "\n",
        "print(\"\\n----Exercício 2----\")#Início da resolução do exercício 2\n",
        "texto = \"As proteínas são cadeias polipeptídicas formadas pela ligação peptídica entre resíduos de aminoácidos. Existem 20 tipos de aminoácidos comumente encontrados nos seres vivos. A esses aminoácidos, foram atribuídas abreviações de 3 letras e símbolos de 1 letra. As abreviações de 3 letras são bastante evidentes consistindo nas três primeiras letras do se nome.\"\n",
        "print(\"Texto: \",texto)\n",
        "print(\"\\nTexto com letras maiúsculas: \",texto.upper())# Ex2 - a\n",
        "print(\"\\nTexto com letras minúsculas: \",texto.lower())# Ex2 - b\n",
        "texto = texto.title()# Ex2 - c\n",
        "print(\"\\nPalavras com primeira letra em Maiúsculo: \",texto)\n",
        "texto = texto.swapcase()# Ex2 - d\n",
        "print(\"\\nTexto com maiúsculas/minúsculas invertidas: \",texto)\n",
        "print(\"----FIM Exercício 2----\\n\")#Fim exercício 2\n",
        "\n",
        "print(\"----Exercício 3----\")#Início da resolução do exercício 3\n",
        "sequencia = \"MALWMRLLPLLALLALWGPDPAAA\"\n",
        "print(\"Sequência: \",sequencia)\n",
        "print(\"Tamanho da sequência: \",len(sequencia))# Ex3 - a\n",
        "sequencia = sequencia.split(\"LLALLALWG\")# Ex3 - b\n",
        "print (\"Sequência quebrada no trecho '“LLALLALWG': \",sequencia)\n",
        "sequencia = sequencia[0]+sequencia[1]# Ex3 - c\n",
        "print(\"Nova sequência com a concatenação do resultado anterior: \",sequencia)\n",
        "sequencia= sequencia.replace(\"DPAAA\",\"LLALL\")# Ex3 - d\n",
        "print(\"Sequencia com o trecho 'DPAAA' substituído por 'LLALL' : \",sequencia)\n",
        "print(\"----FIM Exercício 3----\\n\")#Fim exercício 3\n",
        "\n",
        "print(\"----Exercício 4----\")#Início da resolução do exercício 4\n",
        "dna = \"GATGGAACTTGACGTAAACCTATATT\"\n",
        "print(\"Sequência de DNA = \"+dna)\n",
        "rna = dna.replace(\"T\",\"U\")\n",
        "print(\"Sequência de RNA correspondente: \"+rna)\n",
        "print(\"----FIM Exercício 4----\")#Fim exercício 4"
      ]
    }
  ]
}