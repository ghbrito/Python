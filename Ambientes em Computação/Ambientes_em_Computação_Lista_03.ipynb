{
  "nbformat": 4,
  "nbformat_minor": 0,
  "metadata": {
    "colab": {
      "provenance": [],
      "collapsed_sections": []
    },
    "kernelspec": {
      "name": "python3",
      "display_name": "Python 3"
    },
    "language_info": {
      "name": "python"
    }
  },
  "cells": [
    {
      "cell_type": "code",
      "execution_count": 26,
      "metadata": {
        "colab": {
          "base_uri": "https://localhost:8080/"
        },
        "id": "2t90WOIKFAsr",
        "outputId": "e183101a-1dd9-4109-ba27-cc467b872410"
      },
      "outputs": [
        {
          "output_type": "stream",
          "name": "stdout",
          "text": [
            "---Lista de Exercícios 3---\n",
            "\n",
            "---Exercício 1---\n",
            "\n",
            "Tupla:  ('A', 'C', 'D', 'E', 'F', 'G', 'H', 'I', 'K', 'L', 'M', 'N', 'P', 'Q', 'R', 'S', 'T', 'V', 'W', 'Y')\n",
            "\n",
            "a)\n",
            "Número de elementos da Tupla: 20\n",
            "\n",
            "b)\n",
            "O aminoácido Serina(S) pertence à tupla?  True\n",
            "\n",
            "c)\n",
            "Tupla 2:  ('P', 'G', 'N', 'Y', 'V', 'W')\n",
            "\n",
            "d)\n",
            "Soma de tupla e tupla2:  ('A', 'C', 'D', 'E', 'F', 'G', 'H', 'I', 'K', 'L', 'M', 'N', 'P', 'Q', 'R', 'S', 'T', 'V', 'W', 'Y', 'P', 'G', 'N', 'Y', 'V', 'W')\n",
            "\n",
            "e)\n",
            "Ocorrências de  Glicina (G) na tupla:  2\n",
            "Ocorrências de  Asparagina (N) na tupla:  2\n",
            "Ocorrências de  Cisteína (C) na tupla:  1\n",
            "\n",
            "f)\n",
            "Posição do primeiro elemento Asparagina (N):  11\n",
            "\n",
            "g)\n",
            "Últimos 5 elementos da tupla:  ('G', 'N', 'Y', 'V', 'W')\n",
            "\n",
            "---FIM Exercício 1---\n"
          ]
        }
      ],
      "source": [
        "\n",
        "print(\"---Lista de Exercícios 3---\\n\\n---Exercício 1---\\n\")\n",
        "tupla = 'A', 'C', 'D', 'E', 'F', 'G', 'H', 'I', 'K', 'L', 'M', 'N', 'P', 'Q', 'R', 'S', 'T', 'V', 'W', 'Y'\n",
        "print(\"Tupla: \",tupla)\n",
        "\n",
        "print(\"\\na)\\nNúmero de elementos da Tupla:\",len(tupla)) #Ex1 - a\n",
        "\n",
        "print(\"\\nb)\\nO aminoácido Serina(S) pertence à tupla? \", 'S' in tupla)#Ex1 - b\n",
        "\n",
        "tupla2 = 'P','G','N','Y','V','W'#Ex1 - c\n",
        "print(\"\\nc)\\nTupla 2: \",tupla2)\n",
        "\n",
        "tupla3 = tupla + tupla2 #Ex1 - d\n",
        "print(\"\\nd)\\nSoma de tupla e tupla2: \",tupla3)\n",
        "\n",
        "print(\"\\ne)\\nOcorrências de  Glicina (G) na tupla: \",tupla3.count('G')) #Ex1 - e\n",
        "print(\"Ocorrências de  Asparagina (N) na tupla: \",tupla3.count('N'))\n",
        "print(\"Ocorrências de  Cisteína (C) na tupla: \",tupla3.count('C'))\n",
        "\n",
        "print(\"\\nf)\\nPosição do primeiro elemento Asparagina (N): \",tupla3.index('N')) #Ex1 - f\n",
        "\n",
        "print(\"\\ng)\\nÚltimos 5 elementos da tupla: \",tupla3[-5:])#Ex1 - g\n",
        "\n",
        "print(\"\\n---FIM Exercício 1---\")"
      ]
    }
  ]
}