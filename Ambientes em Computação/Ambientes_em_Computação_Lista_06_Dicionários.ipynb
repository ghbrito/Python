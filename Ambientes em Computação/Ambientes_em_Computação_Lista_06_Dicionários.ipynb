{
  "nbformat": 4,
  "nbformat_minor": 0,
  "metadata": {
    "colab": {
      "provenance": [],
      "collapsed_sections": []
    },
    "kernelspec": {
      "name": "python3",
      "display_name": "Python 3"
    },
    "language_info": {
      "name": "python"
    }
  },
  "cells": [
    {
      "cell_type": "code",
      "execution_count": 1,
      "metadata": {
        "colab": {
          "base_uri": "https://localhost:8080/"
        },
        "id": "UwhfzzUaJ_PW",
        "outputId": "22802f1d-840f-463c-8ce5-d51d3bdeb2e6"
      },
      "outputs": [
        {
          "output_type": "stream",
          "name": "stdout",
          "text": [
            "---Lista de Exercícios 06---\n",
            "\n",
            "---Exercício 1---\n",
            "\n",
            "a)\n",
            "Dicionário:  {'1A8M': 471, '1TNR': 283, '2AZ5': 592, '1TNF': 471, '2TNF': 468, '2TUN': 942, '4TSV': 150, '5TSW': 900, '2E7A': 471, '6RMJ': 489}\n",
            "\n",
            "b)\n",
            "Valor contido no id '2TNF':  468\n",
            "Valor contido no id '2E7A':  471\n",
            "\n",
            "c)\n",
            "Tamanho do dicionário:  10\n",
            "\n",
            "d)\n",
            "Lista de chaves no dicionário:  dict_keys(['1A8M', '1TNR', '2AZ5', '1TNF', '2TNF', '2TUN', '4TSV', '5TSW', '2E7A', '6RMJ'])\n",
            "\n",
            "e)\n",
            "Lista de valores no dicionário:  dict_values([471, 283, 592, 471, 468, 942, 150, 900, 471, 489])\n",
            "\n",
            "f)\n",
            "Lista de tuplas de chave-valor extraídas do dicionário:  [('1A8M', 471), ('1TNR', 283), ('2AZ5', 592), ('1TNF', 471), ('2TNF', 468), ('2TUN', 942), ('4TSV', 150), ('5TSW', 900), ('2E7A', 471), ('6RMJ', 489)]\n",
            "\n",
            "---FIM Exercício 01----\n",
            "\n",
            "---FIM Lista de Exercícios 06---\n"
          ]
        }
      ],
      "source": [
        "print(\"---Lista de Exercícios 06---\\n\\n---Exercício 1---\")\n",
        "\n",
        "#Ex1 - a\n",
        "dicionario = {'1A8M':471,'1TNR':283,'2AZ5':592,'1TNF':471,'2TNF':468,'2TUN':942,'4TSV':150,'5TSW':900,'2E7A':471,'6RMJ':489}\n",
        "print(\"\\na)\\nDicionário: \",dicionario)\n",
        "\n",
        "#Ex1 - b\n",
        "print(\"\\nb)\\nValor contido no id '2TNF': \",dicionario['2TNF'])\n",
        "print(\"Valor contido no id '2E7A': \",dicionario['2E7A'])\n",
        "\n",
        "#Ex1 - c\n",
        "print(\"\\nc)\\nTamanho do dicionário: \",len(dicionario))\n",
        "\n",
        "#Ex1 - d\n",
        "print(\"\\nd)\\nLista de chaves no dicionário: \",dicionario.keys())\n",
        "\n",
        "#Ex1 - e\n",
        "print(\"\\ne)\\nLista de valores no dicionário: \",dicionario.values())\n",
        "\n",
        "#Ex1 - f\n",
        "lista = list(dicionario.items())\n",
        "print(\"\\nf)\\nLista de tuplas de chave-valor extraídas do dicionário: \",lista)\n",
        "\n",
        "\n",
        "\n",
        "print(\"\\n---FIM Exercício 01----\\n\\n---FIM Lista de Exercícios 06---\")"
      ]
    }
  ]
}